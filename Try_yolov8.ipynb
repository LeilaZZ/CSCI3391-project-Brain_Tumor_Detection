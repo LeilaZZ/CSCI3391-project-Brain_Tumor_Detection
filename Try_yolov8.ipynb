{
  "nbformat": 4,
  "nbformat_minor": 0,
  "metadata": {
    "colab": {
      "provenance": []
    },
    "kernelspec": {
      "name": "python3",
      "display_name": "Python 3"
    },
    "language_info": {
      "name": "python"
    }
  },
  "cells": [
    {
      "cell_type": "code",
      "execution_count": null,
      "metadata": {
        "id": "_nLF3ynYIk_v"
      },
      "outputs": [],
      "source": [
        "from google.colab import drive\n",
        "drive.mount('/content/drive')"
      ]
    },
    {
      "cell_type": "code",
      "source": [
        "%cd /content/drive/MyDrive/zzc"
      ],
      "metadata": {
        "id": "wpimlf1WIqsd"
      },
      "execution_count": null,
      "outputs": []
    },
    {
      "cell_type": "code",
      "source": [
        "%ls"
      ],
      "metadata": {
        "id": "U51YFDnQIxuR"
      },
      "execution_count": null,
      "outputs": []
    },
    {
      "cell_type": "code",
      "source": [
        "!git clone https://github.com/ultralytics/ultralytics\n",
        "%cd ultralytics\n",
        "!pip install -e ."
      ],
      "metadata": {
        "id": "sF2TeqYBI52Q"
      },
      "execution_count": null,
      "outputs": []
    },
    {
      "cell_type": "code",
      "source": [
        "ROOT = \"/content/drive/MyDrive/zzc/dataset\""
      ],
      "metadata": {
        "id": "baFJzOxZJBmF"
      },
      "execution_count": null,
      "outputs": []
    },
    {
      "cell_type": "code",
      "source": [
        "import os\n",
        "from ultralytics import YOLO\n",
        "\n",
        "# Load a model load the .pt model with pretrained weights\n",
        "model = YOLO(\"yolov8s.yaml\")\n",
        "\n",
        "# Use the model\n",
        "results = model.train(data=os.path.join(ROOT, \"data.yaml\"), epochs=5)"
      ],
      "metadata": {
        "id": "3S3PDRAcJHBf"
      },
      "execution_count": null,
      "outputs": []
    },
    {
      "cell_type": "code",
      "source": [
        "results = model.val()"
      ],
      "metadata": {
        "id": "ulK63Vq6JUHR"
      },
      "execution_count": null,
      "outputs": []
    },
    {
      "cell_type": "code",
      "source": [
        "results = model.predict(source=os.path.join(ROOT, \"test/images\"), save=True, imgsz=320, conf=0.25, boxes=True, )"
      ],
      "metadata": {
        "id": "iHGXwwYGJc2U"
      },
      "execution_count": null,
      "outputs": []
    }
  ]
}