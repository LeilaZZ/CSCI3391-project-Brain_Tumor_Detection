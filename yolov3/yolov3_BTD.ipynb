{
  "cells": [
    {
      "cell_type": "markdown",
      "source": [
        "# **Brain Tumor Detection with YOLOv3**"
      ],
      "metadata": {
        "id": "jyqGMgJRsSyD"
      }
    },
    {
      "cell_type": "markdown",
      "source": [
        "Author: mr-ravin https://github.com/mr-ravin/Brain-Tumor-Detection-MRI-using-YOLO-v3-Pytorch"
      ],
      "metadata": {
        "id": "3dvUtDo7seQJ"
      }
    },
    {
      "cell_type": "markdown",
      "source": [
        "Modified by: Zhichen Zhou"
      ],
      "metadata": {
        "id": "teIk9-rHsnsk"
      }
    },
    {
      "cell_type": "markdown",
      "source": [
        "# **Connect to Google Drive**"
      ],
      "metadata": {
        "id": "F_iXOy_VtMUd"
      }
    },
    {
      "cell_type": "code",
      "execution_count": null,
      "metadata": {
        "colab": {
          "base_uri": "https://localhost:8080/"
        },
        "id": "XCEdkSh0BIC2",
        "outputId": "8549209d-24b9-43ff-9e3b-2056e6be37c9"
      },
      "outputs": [
        {
          "output_type": "stream",
          "name": "stdout",
          "text": [
            "Drive already mounted at /content/drive; to attempt to forcibly remount, call drive.mount(\"/content/drive\", force_remount=True).\n"
          ]
        }
      ],
      "source": [
        "from google.colab import drive\n",
        "drive.mount('/content/drive')"
      ]
    },
    {
      "cell_type": "code",
      "execution_count": null,
      "metadata": {
        "colab": {
          "base_uri": "https://localhost:8080/"
        },
        "id": "7UYVngBdcFAc",
        "outputId": "58926dbc-e873-497e-c1f6-08220f2f32c5"
      },
      "outputs": [
        {
          "output_type": "stream",
          "name": "stdout",
          "text": [
            "/content/drive/MyDrive/zzc3/source_code\n"
          ]
        }
      ],
      "source": [
        "%cd /content/drive/MyDrive/zzc3/source_code/"
      ]
    },
    {
      "cell_type": "markdown",
      "metadata": {
        "id": "RQ7Q0ttncXnF"
      },
      "source": [
        "# **dataset.py**"
      ]
    },
    {
      "cell_type": "code",
      "execution_count": null,
      "metadata": {
        "id": "onl0RpiXcSgW"
      },
      "outputs": [],
      "source": [
        "import cv2\n",
        "import numpy as np\n",
        "import torch\n",
        "import glob\n",
        "from torch.utils.data import Dataset\n",
        "\n",
        "def iou(boxes1, boxes2):\n",
        "    \"\"\"\n",
        "    Parameters:\n",
        "        boxes1 (tensor): width and height of the first bounding boxes\n",
        "        boxes2 (tensor): width and height of the second bounding boxes\n",
        "    Returns:\n",
        "        tensor: Intersection over union of the corresponding boxes\n",
        "    \"\"\"\n",
        "    intersection = torch.min(boxes1[..., 0], boxes2[..., 0]) * torch.min(\n",
        "        boxes1[..., 1], boxes2[..., 1]\n",
        "    )\n",
        "    union = (\n",
        "        boxes1[..., 0] * boxes1[..., 1] + boxes2[..., 0] * boxes2[..., 1] - intersection\n",
        "    )\n",
        "    return intersection / union\n",
        "\n",
        "class BrainDataset(Dataset):\n",
        "    def __init__(self, anchors, mode = \"train\", S=[13, 26, 52], image_size = 416, num_classes = 1, transform = None, root=\"/content/drive/MyDrive/zzc3/\"):\n",
        "        self.iou_threshold = 0.5\n",
        "        self.image_names = []\n",
        "        self.label_names = []\n",
        "        self.S = S\n",
        "        self.num_classes = num_classes\n",
        "        self.transform = transform\n",
        "        self.anchors = torch.tensor(anchors[0]+anchors[1]+anchors[2])\n",
        "        self.num_anchors = self.anchors.shape[0]\n",
        "        self.num_anchors_per_scale = int(self.num_anchors/3)\n",
        "        tmp_image_names = sorted(glob.glob(root+\"dataset/images/\"+mode+\"/*\"))\n",
        "        tmp_labels_names = glob.glob(root+\"dataset/labels/\"+mode+\"/*\")\n",
        "        for image_name in tmp_image_names:\n",
        "            i_name = image_name.split(\"/\")[-1][:-4]\n",
        "            check_label_file = root+\"dataset/labels/\"+mode+\"/\"+i_name+\".txt\"\n",
        "            if check_label_file in tmp_labels_names:\n",
        "                self.image_names.append(image_name)\n",
        "                self.label_names.append(check_label_file)\n",
        "\n",
        "    def __len__(self):\n",
        "        return len(self.image_names)\n",
        "\n",
        "    def __getitem__(self, index):\n",
        "        image_path = self.image_names[index]\n",
        "        label_path = self.label_names[index]\n",
        "        image = cv2.imread(image_path)\n",
        "        label_data = np.roll(np.loadtxt(label_path, delimiter = \" \", ndmin=2), 4, axis=1).tolist() # X,Y,W,H,CLASS\n",
        "        if self.transform:\n",
        "            augmentations = self.transform(image=image, bboxes=label_data)\n",
        "            image = augmentations[\"image\"]\n",
        "            bboxes = augmentations[\"bboxes\"]\n",
        "\n",
        "        targets = [torch.zeros((self.num_anchors//3, S, S, 6)) for S in self.S]\n",
        "\n",
        "        for box_elem in bboxes:\n",
        "            iou_anchors = iou(torch.tensor(box_elem[2:4]), self.anchors) # send width and height to calc anchor's iou\n",
        "            anchor_indices = iou_anchors.argsort(descending=True, dim = 0)\n",
        "            x,y,w,h,class_label = box_elem\n",
        "            has_anchor = [False]*3\n",
        "\n",
        "            for anchor_idx in anchor_indices:\n",
        "                branch_index = anchor_idx // self.num_anchors_per_scale # 0,1,2\n",
        "                anchor_on_branch = anchor_idx % self.num_anchors_per_scale\n",
        "                S = self.S[branch_index]\n",
        "                j, i = int(S*y), int(S*x)\n",
        "                anchor_taken = targets[branch_index][anchor_on_branch, j, i, 0]\n",
        "\n",
        "                if not anchor_taken and not has_anchor[branch_index]:\n",
        "                    targets[branch_index][anchor_on_branch, j, i, 0] = 1\n",
        "                    x_cell, y_cell = S*x - i, S*y - j\n",
        "                    w_cell, h_cell = S*w, S*h\n",
        "                    box_coord = torch.tensor(\n",
        "                        [x_cell, y_cell, w_cell, h_cell]\n",
        "                    )\n",
        "                    targets[branch_index][anchor_on_branch, j, i, 1:5] = box_coord\n",
        "                    targets[branch_index][anchor_on_branch, j, i, 5] = int(class_label)\n",
        "                    has_anchor[branch_index] = True\n",
        "                elif not anchor_taken and iou_anchors[anchor_idx] > self.iou_threshold:\n",
        "                    targets[branch_index][anchor_on_branch, j, i, 0] = -1\n",
        "        return image, tuple(targets), image_path, label_path"
      ]
    },
    {
      "cell_type": "markdown",
      "metadata": {
        "id": "yBgU_Y1vcbRj"
      },
      "source": [
        "# **model.py**"
      ]
    },
    {
      "cell_type": "code",
      "execution_count": null,
      "metadata": {
        "colab": {
          "base_uri": "https://localhost:8080/"
        },
        "id": "LlMatcImcc36",
        "outputId": "f0dd27dc-dec6-46fe-c89c-59cdf033daf7"
      },
      "outputs": [
        {
          "output_type": "stream",
          "name": "stdout",
          "text": [
            "torch.Size([2, 3, 13, 13, 25])\n",
            "Success!\n"
          ]
        }
      ],
      "source": [
        "import torch\n",
        "import torch.nn as nn\n",
        "import json\n",
        "\n",
        "class CNNBlock(nn.Module):\n",
        "    def __init__(self, in_channels, out_channels, bn_act=True, **kwargs):\n",
        "        super().__init__()\n",
        "        self.conv = nn.Conv2d(in_channels, out_channels, bias=not bn_act, **kwargs)\n",
        "        self.bn = nn.BatchNorm2d(out_channels)\n",
        "        self.leaky = nn.LeakyReLU(0.1)\n",
        "        self.use_bn_act = bn_act\n",
        "\n",
        "    def forward(self, x):\n",
        "        if self.use_bn_act:\n",
        "            return self.leaky(self.bn(self.conv(x)))\n",
        "        else:\n",
        "            return self.conv(x)\n",
        "\n",
        "\n",
        "class BranchPrediction(nn.Module):\n",
        "    def __init__(self, in_channels, num_classes):\n",
        "        super().__init__()\n",
        "        self.num_anchors = 3\n",
        "        self.num_classes = num_classes\n",
        "        self.pred = nn.Sequential(\n",
        "            CNNBlock(in_channels, 2 * in_channels, kernel_size=3, padding=1),\n",
        "            CNNBlock(\n",
        "                2 * in_channels, (num_classes + 5) * self.num_anchors, bn_act=False, kernel_size=1\n",
        "            ),\n",
        "        )\n",
        "\n",
        "    def forward(self, x):\n",
        "        return (\n",
        "            self.pred(x)\n",
        "            .reshape(x.shape[0], self.num_anchors, self.num_classes + 5, x.shape[2], x.shape[3])\n",
        "            .permute(0, 1, 3, 4, 2)\n",
        "        )\n",
        "\n",
        "class ResidualBlock(nn.Module):\n",
        "    def __init__(self, channels, use_residual=True, num_repeats=1):\n",
        "        super().__init__()\n",
        "        self.layers = nn.ModuleList()\n",
        "        self.use_residual = use_residual\n",
        "        self.num_repeats = num_repeats\n",
        "        for _ in range(num_repeats):\n",
        "            self.layers += [\n",
        "                nn.Sequential(\n",
        "                    CNNBlock(channels, channels // 2, kernel_size=1),\n",
        "                    CNNBlock(channels // 2, channels, kernel_size=3, padding=1),\n",
        "                )\n",
        "            ]\n",
        "\n",
        "\n",
        "    def forward(self, x):\n",
        "        for layer in self.layers:\n",
        "            if self.use_residual:\n",
        "                x = x + layer(x)\n",
        "            else:\n",
        "                x = layer(x)\n",
        "\n",
        "        return x\n",
        "\n",
        "\n",
        "class YOLOv3(nn.Module):\n",
        "    def __init__(self, in_channels=3, num_classes=1):\n",
        "        super().__init__()\n",
        "        self.num_classes = num_classes\n",
        "        self.in_channels = in_channels\n",
        "        self.config_list = json.load(open(\"yolo_configuration.json\",\"r\"))\n",
        "        self.layers = self._create_conv_layers()\n",
        "\n",
        "    def forward(self, x):\n",
        "        outputs = []  # for each scale\n",
        "        route_connections = []\n",
        "        for layer in self.layers:\n",
        "            if isinstance(layer, BranchPrediction):\n",
        "                outputs.append(layer(x))\n",
        "                continue\n",
        "\n",
        "            x = layer(x)\n",
        "\n",
        "            if isinstance(layer, ResidualBlock) and layer.num_repeats == 8:\n",
        "                route_connections.append(x)\n",
        "\n",
        "            elif isinstance(layer, nn.Upsample):\n",
        "                x = torch.cat([x, route_connections[-1]], dim=1)\n",
        "                route_connections.pop()\n",
        "\n",
        "        return outputs\n",
        "\n",
        "    def _create_conv_layers(self):\n",
        "        layers = nn.ModuleList()\n",
        "        in_channels = self.in_channels\n",
        "\n",
        "        for module in self.config_list[\"layers\"]:\n",
        "            if len(module)==3:\n",
        "                out_channels, kernel_size, stride = module\n",
        "                layers.append(\n",
        "                    CNNBlock(\n",
        "                        in_channels,\n",
        "                        out_channels,\n",
        "                        kernel_size=kernel_size,\n",
        "                        stride=stride,\n",
        "                        padding=1 if kernel_size == 3 else 0,\n",
        "                    )\n",
        "                )\n",
        "                in_channels = out_channels\n",
        "\n",
        "            elif len(module)==2:\n",
        "                num_repeats = module[1]\n",
        "                layers.append(ResidualBlock(in_channels, num_repeats=num_repeats,))\n",
        "\n",
        "            elif len(module)==1:\n",
        "                if module[0] == \"BRANCH\":\n",
        "                    layers += [\n",
        "                        ResidualBlock(in_channels, use_residual=False, num_repeats=1),\n",
        "                        CNNBlock(in_channels, in_channels // 2, kernel_size=1),\n",
        "                        BranchPrediction(in_channels // 2, num_classes=self.num_classes),\n",
        "                    ]\n",
        "                    in_channels = in_channels // 2\n",
        "\n",
        "                elif module[0] == \"UPSAMPLE\":\n",
        "                    layers.append(nn.Upsample(scale_factor=2),)\n",
        "                    in_channels = in_channels * 3\n",
        "\n",
        "        return layers\n",
        "\n",
        "if __name__ == \"__main__\":\n",
        "    num_classes = 20\n",
        "    IMAGE_SIZE = 416\n",
        "    model = YOLOv3(num_classes=num_classes)\n",
        "    x = torch.randn((2, 3, IMAGE_SIZE, IMAGE_SIZE))\n",
        "    out = model(x)\n",
        "    print(out[0].shape)\n",
        "    assert model(x)[0].shape == (2, 3, IMAGE_SIZE//32, IMAGE_SIZE//32, num_classes + 5)\n",
        "    assert model(x)[1].shape == (2, 3, IMAGE_SIZE//16, IMAGE_SIZE//16, num_classes + 5)\n",
        "    assert model(x)[2].shape == (2, 3, IMAGE_SIZE//8, IMAGE_SIZE//8, num_classes + 5)\n",
        "    print(\"Success!\")"
      ]
    },
    {
      "cell_type": "markdown",
      "metadata": {
        "id": "nmsG_KVcc237"
      },
      "source": [
        "# **util.py**"
      ]
    },
    {
      "cell_type": "code",
      "execution_count": null,
      "metadata": {
        "id": "6dgY2lcSc5_6"
      },
      "outputs": [],
      "source": [
        "import torch\n",
        "\n",
        "\n",
        "def intersection_over_union(boxes_preds, boxes_labels, box_format=\"midpoint\"):\n",
        "    \"\"\"\n",
        "    Video explanation of this function:\n",
        "    https://youtu.be/XXYG5ZWtjj0\n",
        "\n",
        "    This function calculates intersection over union (iou) given pred boxes\n",
        "    and target boxes.\n",
        "\n",
        "    Parameters:\n",
        "        boxes_preds (tensor): Predictions of Bounding Boxes (BATCH_SIZE, 4)\n",
        "        boxes_labels (tensor): Correct labels of Bounding Boxes (BATCH_SIZE, 4)\n",
        "        box_format (str): midpoint/corners, if boxes (x,y,w,h) or (x1,y1,x2,y2)\n",
        "\n",
        "    Returns:\n",
        "        tensor: Intersection over union for all examples\n",
        "    \"\"\"\n",
        "\n",
        "    if box_format == \"midpoint\":\n",
        "        box1_x1 = boxes_preds[..., 0:1] - boxes_preds[..., 2:3] / 2\n",
        "        box1_y1 = boxes_preds[..., 1:2] - boxes_preds[..., 3:4] / 2\n",
        "        box1_x2 = boxes_preds[..., 0:1] + boxes_preds[..., 2:3] / 2\n",
        "        box1_y2 = boxes_preds[..., 1:2] + boxes_preds[..., 3:4] / 2\n",
        "        box2_x1 = boxes_labels[..., 0:1] - boxes_labels[..., 2:3] / 2\n",
        "        box2_y1 = boxes_labels[..., 1:2] - boxes_labels[..., 3:4] / 2\n",
        "        box2_x2 = boxes_labels[..., 0:1] + boxes_labels[..., 2:3] / 2\n",
        "        box2_y2 = boxes_labels[..., 1:2] + boxes_labels[..., 3:4] / 2\n",
        "\n",
        "    if box_format == \"corners\":\n",
        "        box1_x1 = boxes_preds[..., 0:1]\n",
        "        box1_y1 = boxes_preds[..., 1:2]\n",
        "        box1_x2 = boxes_preds[..., 2:3]\n",
        "        box1_y2 = boxes_preds[..., 3:4]\n",
        "        box2_x1 = boxes_labels[..., 0:1]\n",
        "        box2_y1 = boxes_labels[..., 1:2]\n",
        "        box2_x2 = boxes_labels[..., 2:3]\n",
        "        box2_y2 = boxes_labels[..., 3:4]\n",
        "\n",
        "    x1 = torch.max(box1_x1, box2_x1)\n",
        "    y1 = torch.max(box1_y1, box2_y1)\n",
        "    x2 = torch.min(box1_x2, box2_x2)\n",
        "    y2 = torch.min(box1_y2, box2_y2)\n",
        "\n",
        "    intersection = (x2 - x1).clamp(0) * (y2 - y1).clamp(0)\n",
        "    box1_area = abs((box1_x2 - box1_x1) * (box1_y2 - box1_y1))\n",
        "    box2_area = abs((box2_x2 - box2_x1) * (box2_y2 - box2_y1))\n",
        "\n",
        "    return intersection / (box1_area + box2_area - intersection + 1e-6)\n",
        "\n",
        "\n",
        "def non_max_suppression(bboxes, iou_threshold, threshold, box_format=\"corners\"):\n",
        "    \"\"\"\n",
        "    Video explanation of this function:\n",
        "    https://youtu.be/YDkjWEN8jNA\n",
        "\n",
        "    Does Non Max Suppression given bboxes\n",
        "\n",
        "    Parameters:\n",
        "        bboxes (list): list of lists containing all bboxes with each bboxes\n",
        "        specified as [class_pred, prob_score, x1, y1, x2, y2]\n",
        "        iou_threshold (float): threshold where predicted bboxes is correct\n",
        "        threshold (float): threshold to remove predicted bboxes (independent of IoU)\n",
        "        box_format (str): \"midpoint\" or \"corners\" used to specify bboxes\n",
        "\n",
        "    Returns:\n",
        "        list: bboxes after performing NMS given a specific IoU threshold\n",
        "    \"\"\"\n",
        "\n",
        "    assert type(bboxes) == list\n",
        "\n",
        "    bboxes = [box for box in bboxes if box[1] > threshold]\n",
        "    bboxes = sorted(bboxes, key=lambda x: x[1], reverse=True)\n",
        "    bboxes_after_nms = []\n",
        "\n",
        "    while bboxes:\n",
        "        chosen_box = bboxes.pop(0)\n",
        "\n",
        "        bboxes = [\n",
        "            box\n",
        "            for box in bboxes\n",
        "            if box[0] != chosen_box[0]\n",
        "            or intersection_over_union(\n",
        "                torch.tensor(chosen_box[2:]),\n",
        "                torch.tensor(box[2:]),\n",
        "                box_format=box_format,\n",
        "            )\n",
        "            < iou_threshold\n",
        "        ]\n",
        "\n",
        "        bboxes_after_nms.append(chosen_box)\n",
        "\n",
        "    return bboxes_after_nms"
      ]
    },
    {
      "cell_type": "markdown",
      "metadata": {
        "id": "xZuaxhHMcg0O"
      },
      "source": [
        "# **loss_fn.py**"
      ]
    },
    {
      "cell_type": "code",
      "execution_count": null,
      "metadata": {
        "id": "2asCU-dsciMf"
      },
      "outputs": [],
      "source": [
        "import torch\n",
        "import torch.nn as nn\n",
        "\n",
        "class YoloLoss(nn.Module):\n",
        "    def __init__(self):\n",
        "        super().__init__()\n",
        "        self.mse = nn.MSELoss() # for bbox\n",
        "        self.bce = nn.BCEWithLogitsLoss()\n",
        "        self.cls_loss = nn.BCEWithLogitsLoss()\n",
        "        self.sigmoid = nn.Sigmoid()\n",
        "        self.const_cls = 1\n",
        "        self.const_noobj = 10\n",
        "        self.const_obj = 1\n",
        "        self.const_bbox = 10\n",
        "\n",
        "    def forward(self, predictions, target, anchors):\n",
        "        obj = target[...,0] == 1\n",
        "        noobj = target[...,0] == 0\n",
        "\n",
        "        # No-obj loss\n",
        "        no_obj_loss = self.bce((predictions[..., 0:1][noobj]), (target[..., 0:1][noobj]))\n",
        "\n",
        "        # Obj loss\n",
        "        anchors = anchors.reshape(1,3,1,1,2)\n",
        "        box_preds = torch.cat([self.sigmoid(predictions[...,1:3]), torch.exp(predictions[...,3:5]*anchors)], dim = -1)\n",
        "        ious = intersection_over_union(box_preds[obj], target[...,1:5][obj]).detach()\n",
        "        object_loss = self.bce((predictions[...,0:1][obj]), (ious*target[...,0:1][obj]))\n",
        "\n",
        "        # Box Coord Loss\n",
        "        predictions[...,1:3] = self.sigmoid(predictions[...,1:3])\n",
        "        target[...,3:5] = torch.log(1e-8+target[...,3:5]/anchors)\n",
        "        box_loss = self.mse(predictions[...,1:5][obj], target[...,1:5][obj])\n",
        "\n",
        "        # Class Loss\n",
        "        class_loss = self.bce((predictions[...,5:6][obj]),(target[...,5:6][obj]))\n",
        "\n",
        "        total_loss = (self.const_bbox * box_loss)+(self.const_obj*object_loss)+(self.const_noobj*no_obj_loss)+(self.const_cls*class_loss)\n",
        "        return total_loss"
      ]
    },
    {
      "cell_type": "markdown",
      "metadata": {
        "id": "nSAzZg48AbUi"
      },
      "source": [
        "# **run.py**"
      ]
    },
    {
      "cell_type": "code",
      "execution_count": null,
      "metadata": {
        "id": "RzkqJilnejPg"
      },
      "outputs": [],
      "source": [
        "import torch\n",
        "import torch.nn as nn\n",
        "from torch.optim.lr_scheduler import StepLR\n",
        "import torch.optim as optim\n",
        "from torch.utils.data import DataLoader\n",
        "import albumentations as A\n",
        "from albumentations.pytorch import ToTensorV2\n",
        "from tqdm import tqdm\n",
        "import numpy as np\n",
        "import cv2\n",
        "import glob\n",
        "import os\n",
        "import argparse\n",
        "import matplotlib.pyplot as plt"
      ]
    },
    {
      "cell_type": "markdown",
      "metadata": {
        "id": "C4ERr7PR_2-z"
      },
      "source": [
        "# **Training the YOLOv3 model**"
      ]
    },
    {
      "cell_type": "code",
      "execution_count": null,
      "metadata": {
        "id": "5HTrN5xNfBs-"
      },
      "outputs": [],
      "source": [
        "# Define constants and hyperparameters\n",
        "LR = 4e-3\n",
        "DIM = 416\n",
        "EPOCH = 5  # Set epoch\n",
        "MODE = \"train\"  # Set mode to train\n",
        "ROOT = \"/content/drive/MyDrive/zzc3/\"\n",
        "RELOAD = 0\n",
        "yolo_v3_model = YOLOv3()\n",
        "loss_fn =YoloLoss()\n",
        "\n",
        "optimizer = optim.Adam(yolo_v3_model.parameters(), lr=LR)\n",
        "scheduler = StepLR(optimizer, step_size=3, gamma=0.05)\n",
        "\n",
        "ANCHORS= [\n",
        "    [(0.28, 0.22), (0.38, 0.48), (0.9, 0.78)],\n",
        "    [(0.07, 0.15), (0.15, 0.11), (0.14, 0.29)],\n",
        "    [(0.02, 0.03), (0.04, 0.07), (0.08, 0.06)],\n",
        "    ]\n",
        "NMS_IOU_THRESH = 0.05\n",
        "CONF_THRESHOLD = 0.40\n",
        "S = [13, 26, 52]\n",
        "\n",
        "scaled_anchors = torch.tensor(ANCHORS)*(torch.tensor([13, 26, 52]).unsqueeze(1).unsqueeze(1).repeat(1, 3, 2))\n",
        "\n"
      ]
    },
    {
      "cell_type": "code",
      "execution_count": null,
      "metadata": {
        "colab": {
          "base_uri": "https://localhost:8080/",
          "height": 829
        },
        "id": "BZX4FGaJdL1R",
        "outputId": "287c1410-7f53-4d3a-c1f2-b480555958c2"
      },
      "outputs": [
        {
          "output_type": "stream",
          "name": "stderr",
          "text": [
            "Train Epoch 1: 100%|██████████| 146/146 [33:39<00:00, 13.83s/ Train batch]\n"
          ]
        },
        {
          "output_type": "stream",
          "name": "stdout",
          "text": [
            "Epoch 1\n",
            "train_loss : 31.468599842019277\n",
            "Saving Weights started\n"
          ]
        },
        {
          "output_type": "stream",
          "name": "stderr",
          "text": [
            "Train Epoch 2: 100%|██████████| 146/146 [33:41<00:00, 13.85s/ Train batch]\n"
          ]
        },
        {
          "output_type": "stream",
          "name": "stdout",
          "text": [
            "Epoch 2\n",
            "train_loss : 18.832583479685326\n",
            "Saving Weights started\n"
          ]
        },
        {
          "output_type": "stream",
          "name": "stderr",
          "text": [
            "Train Epoch 3: 100%|██████████| 146/146 [33:44<00:00, 13.87s/ Train batch]\n"
          ]
        },
        {
          "output_type": "stream",
          "name": "stdout",
          "text": [
            "Epoch 3\n",
            "train_loss : 6.741685243502055\n",
            "Saving Weights started\n"
          ]
        },
        {
          "output_type": "stream",
          "name": "stderr",
          "text": [
            "Train Epoch 4: 100%|██████████| 146/146 [32:28<00:00, 13.34s/ Train batch]\n"
          ]
        },
        {
          "output_type": "stream",
          "name": "stdout",
          "text": [
            "Epoch 4\n",
            "train_loss : 6.4297294747339535\n",
            "Saving Weights started\n"
          ]
        },
        {
          "output_type": "stream",
          "name": "stderr",
          "text": [
            "Train Epoch 5: 100%|██████████| 146/146 [31:34<00:00, 12.97s/ Train batch]\n"
          ]
        },
        {
          "output_type": "stream",
          "name": "stdout",
          "text": [
            "Epoch 5\n",
            "train_loss : 6.068845464758677\n",
            "Saving Weights started\n"
          ]
        },
        {
          "output_type": "display_data",
          "data": {
            "text/plain": [
              "<Figure size 640x480 with 1 Axes>"
            ],
            "image/png": "[encoded data removed]"
          },
          "metadata": {}
        }
      ],
      "source": [
        "def cells_to_bboxes(predictions, anchors, S, is_preds=True):\n",
        "    \"\"\"\n",
        "    Scales the predictions coming from the model to\n",
        "    be relative to the entire image such that they for example later\n",
        "    can be plotted or.\n",
        "    INPUT:\n",
        "    predictions: tensor of size (N, 3, S, S, num_classes+5)\n",
        "    anchors: the anchors used for the predictions\n",
        "    S: the number of cells the image is divided in on the width (and height)\n",
        "    is_preds: whether the input is predictions or the true bounding boxes\n",
        "    OUTPUT:\n",
        "    converted_bboxes: the converted boxes of sizes (N, num_anchors, S, S, 1+5) with class index,\n",
        "                      object score, bounding box coordinates\n",
        "    \"\"\"\n",
        "    BATCH_SIZE = predictions.shape[0]\n",
        "    num_anchors = len(anchors)\n",
        "    box_predictions = predictions[..., 1:5]\n",
        "    if is_preds:\n",
        "        anchors = anchors.reshape(1, len(anchors), 1, 1, 2)\n",
        "        box_predictions[..., 0:2] = torch.sigmoid(box_predictions[..., 0:2])\n",
        "        box_predictions[..., 2:] = torch.exp(box_predictions[..., 2:]) * anchors\n",
        "        scores = torch.sigmoid(predictions[..., 0:1])\n",
        "        best_class = torch.argmax(predictions[..., 5:], dim=-1).unsqueeze(-1)\n",
        "    else:\n",
        "        scores = predictions[..., 0:1]\n",
        "        best_class = predictions[..., 5:6]\n",
        "\n",
        "    cell_indices = (\n",
        "        torch.arange(S)\n",
        "        .repeat(predictions.shape[0], 3, S, 1)\n",
        "        .unsqueeze(-1)\n",
        "        .to(predictions.device)\n",
        "    )\n",
        "    x = 1 / S * (box_predictions[..., 0:1] + cell_indices)\n",
        "    y = 1 / S * (box_predictions[..., 1:2] + cell_indices.permute(0, 1, 3, 2, 4))\n",
        "    w_h = 1 / S * box_predictions[..., 2:4]\n",
        "    converted_bboxes = torch.cat((best_class, scores, x, y, w_h), dim=-1).reshape(BATCH_SIZE, num_anchors * S * S, 6)\n",
        "    return converted_bboxes.tolist()\n",
        "\n",
        "\n",
        "\n",
        "def plot(image, bbox, color, type=\"mid\"):\n",
        "    try:\n",
        "        image_shape = image.shape\n",
        "        if color == \"green\":\n",
        "            color = [0,255,0]\n",
        "        elif color == \"red\":\n",
        "            color = [0,0,255]\n",
        "        elif color == \"blue\":\n",
        "            color = [255,0,0]\n",
        "        if type == \"mid\":\n",
        "            cx,cy = int(bbox[2]*image_shape[1]), int(bbox[3]*image_shape[0])\n",
        "            w,h = int(bbox[4]*image_shape[1]), int(bbox[5]*image_shape[0])\n",
        "            x1,y1 = cx-int(w/2), cy-int(h/2)\n",
        "            x2,y2 = cx+int(w/2), cy+int(h/2)\n",
        "        else:\n",
        "            x1,y1 = int(bbox[2]*image_shape[1]), int(bbox[3]*image_shape[0])\n",
        "            x2,y2 = int(bbox[4]*image_shape[1]), int(bbox[4]*image_shape[0])\n",
        "        start_point = (x1,y1)\n",
        "        end_point = (x2,y2)\n",
        "        image = cv2.rectangle(image, start_point, end_point, color, thickness=1)\n",
        "    except:\n",
        "        pass\n",
        "    return image\n",
        "\n",
        "\n",
        "def save_image(gt_image, pred_image, image_path):\n",
        "    write_path = ROOT+\"image_plots/\"+image_path.split(\"/\")[-1]\n",
        "    gt_image = cv2.putText(gt_image, 'Ground Truth', (30,30), cv2.FONT_HERSHEY_SIMPLEX ,  1, (255,255,255), 2, cv2.LINE_AA)\n",
        "    pred_image = cv2.putText(pred_image, 'Prediction', (30,30), cv2.FONT_HERSHEY_SIMPLEX ,  1, (255,255,255), 2, cv2.LINE_AA)\n",
        "    image = cv2.hconcat([gt_image, pred_image])\n",
        "    cv2.imwrite(write_path,image)\n",
        "\n",
        "\n",
        "def train_yolo_v3():\n",
        "    transform_train = A.Compose(\n",
        "                [   A.Resize(height=DIM, width=DIM),\n",
        "                    A.CLAHE(p=1.0),\n",
        "                    A.HorizontalFlip(p=0.5),\n",
        "                    A.Rotate(limit=30, p=0.25),\n",
        "                    A.Normalize(mean=[0, 0, 0], std=[1, 1, 1], max_pixel_value=255,),\n",
        "                    ToTensorV2(),\n",
        "                ], bbox_params=A.BboxParams(format=\"yolo\", min_visibility=0.4, label_fields=[]),\n",
        "                )\n",
        "    clip_value = 3\n",
        "    min_train_loss = 1000000\n",
        "    epoch_tr_loss = []\n",
        "    if RELOAD != 0:\n",
        "        weight_path = glob.glob(ROOT+\"weights/\"+str(RELOAD)+\".pth\")\n",
        "        yolo_v3_model.load_state_dict(torch.load(weight_path[0]))\n",
        "    yolo_v3_model.train() # switch to train mode\n",
        "    training_data = BrainDataset(ANCHORS, transform=transform_train, mode=\"train\",root=ROOT)\n",
        "    train_dataloader = DataLoader(training_data, batch_size=3, shuffle=True, pin_memory=True)\n",
        "    if not os.path.exists(ROOT+\"weights/\"):\n",
        "        os.system(\"mkdir \"+ROOT+\"weights/\")\n",
        "    for ep in range(RELOAD,EPOCH):\n",
        "        train_losses = []\n",
        "        with tqdm(train_dataloader, unit=\" Train batch\") as tepoch:\n",
        "            tepoch.set_description(f\"Train Epoch {ep+1}\")\n",
        "            for input_images, labels, image_paths, label_paths in tepoch:\n",
        "                y0, y1, y2 = (\n",
        "                                labels[0],\n",
        "                                labels[1],\n",
        "                                labels[2],\n",
        "                            )\n",
        "                with torch.cuda.amp.autocast():\n",
        "                    out = yolo_v3_model(input_images)\n",
        "\n",
        "                    loss = loss_fn(out[0], y0, scaled_anchors[0]) + loss_fn(out[1], y1, scaled_anchors[1]) + loss_fn(out[2], y2, scaled_anchors[2])\n",
        "                    train_losses.append(loss.item())\n",
        "\n",
        "                optimizer.zero_grad()\n",
        "                loss.backward()\n",
        "                nn.utils.clip_grad_norm_(yolo_v3_model.parameters(), clip_value)\n",
        "                optimizer.step()\n",
        "\n",
        "        epoch_train_loss = np.mean(train_losses)\n",
        "        epoch_tr_loss.append(epoch_train_loss)\n",
        "        print(f'Epoch {ep+1}')\n",
        "        print(f'train_loss : {epoch_train_loss}')\n",
        "        if epoch_train_loss < min_train_loss:\n",
        "            # Zhichen: check if it's working\n",
        "            print(\"Saving Weights started\")\n",
        "            os.system(\"rm \"+ROOT+\"weights/*.pth\")\n",
        "            torch.save(yolo_v3_model.state_dict(), ROOT+\"weights/\"+str(ep+1)+\".pth\")\n",
        "            min_train_loss = epoch_train_loss\n",
        "    # Zhichen: plot train loss graph\n",
        "    epoch = list(range(1, EPOCH+1))\n",
        "    plt.plot(epoch, epoch_tr_loss, label='Train Loss')\n",
        "    plt.xlabel('Epoch')\n",
        "    plt.ylabel('Loss')\n",
        "    plt.title('Train Loss Graph')\n",
        "    plt.legend()\n",
        "    plt.show()\n",
        "\n",
        "def test_yolo_v3(epoch):\n",
        "    weights_path = glob.glob(ROOT+\"weights/*.pth\")\n",
        "    if len(weights_path) == 0:\n",
        "        print(\"No weights file present in weights/\")\n",
        "        return\n",
        "\n",
        "    weights_path = weights_path[0]  # takes the file to load\n",
        "    print(\"Loading Weights:\", weights_path)\n",
        "\n",
        "    transform_test = A.Compose(\n",
        "        [A.Resize(height=DIM, width=DIM),\n",
        "         A.CLAHE(p=1.0),\n",
        "         A.Normalize(mean=[0, 0, 0], std=[1, 1, 1], max_pixel_value=255,),\n",
        "         ToTensorV2()],\n",
        "        bbox_params=A.BboxParams(format=\"yolo\", min_visibility=0.4, label_fields=[]),\n",
        "    )\n",
        "\n",
        "    yolo_v3_model.load_state_dict(torch.load(weights_path))\n",
        "    yolo_v3_model.eval()\n",
        "\n",
        "    test_data = BrainDataset(ANCHORS, transform=transform_test, mode=\"test\", root=ROOT)\n",
        "    test_dataloader = DataLoader(test_data, batch_size=1, shuffle=True, pin_memory=True)\n",
        "    test_losses = []\n",
        "    correct_predictions = 0\n",
        "    total_predictions = 0\n",
        "\n",
        "    with tqdm(test_dataloader, unit=\" Test batch\") as tepoch:\n",
        "        for input_images, labels, image_paths, label_paths in tepoch:\n",
        "            batch_size = input_images.shape[0]\n",
        "            y0, y1, y2 = (\n",
        "                labels[0],\n",
        "                labels[1],\n",
        "                labels[2],\n",
        "            )\n",
        "            with torch.no_grad():\n",
        "                out = yolo_v3_model(input_images)\n",
        "                loss = loss_fn(out[0], y0, scaled_anchors[0]) + loss_fn(out[1], y1, scaled_anchors[1]) + loss_fn(\n",
        "                    out[2], y2, scaled_anchors[2])\n",
        "                test_losses.append(loss.item())\n",
        "                bboxes = [[] for _ in range(batch_size)]\n",
        "\n",
        "                for i in range(3):\n",
        "                    S = out[i].shape[2]\n",
        "                    anchor = torch.tensor([*ANCHORS[i]]) * S\n",
        "                    boxes_scale_i = cells_to_bboxes(\n",
        "                        out[i], anchor, S=S, is_preds=True\n",
        "                    )\n",
        "                    for idx, (box) in enumerate(boxes_scale_i):\n",
        "                        bboxes[idx] += box\n",
        "\n",
        "                all_pred_boxes = []  # specified as [class_prediction, prob_score, cx, cy, w, h]\n",
        "\n",
        "                for idx in range(batch_size):\n",
        "                    nms_boxes = non_max_suppression(\n",
        "                        bboxes[idx],\n",
        "                        iou_threshold=NMS_IOU_THRESH,\n",
        "                        threshold=CONF_THRESHOLD,\n",
        "                        box_format=\"midpoint\",\n",
        "                    )\n",
        "\n",
        "                    for nms_box in nms_boxes:\n",
        "                        all_pred_boxes.append(nms_box)\n",
        "\n",
        "                    for image_idx in range(len(image_paths)):\n",
        "                        image_path = image_paths[image_idx]\n",
        "                        label_path = label_paths[image_idx]\n",
        "                        image = cv2.imread(image_path) # its a square dimensional image 256x256\n",
        "                        image = cv2.resize(image, (DIM, DIM))\n",
        "                        gt_image = image.copy()\n",
        "                        pred_image = image\n",
        "                        label_data = np.loadtxt(label_path, delimiter = \" \", ndmin=2).tolist()\n",
        "                        for iddx in range(len(label_data)):\n",
        "                            label_data[iddx].insert(1,1)\n",
        "                        # for gt in all_true_boxes:\n",
        "                        #     gt_image = plot(gt_image, gt, \"green\")\n",
        "                        for gt in label_data:\n",
        "                            gt_image = plot(gt_image, gt, \"green\")\n",
        "                        for pred in all_pred_boxes:\n",
        "                            pred_image = plot(image, pred, \"red\")\n",
        "                        save_image(gt_image, pred_image, image_path)\n",
        "\n",
        "                        image_path = image_paths[image_idx]\n",
        "                        label_path = label_paths[image_idx]\n",
        "                        label_data = np.loadtxt(label_path, delimiter=\" \", ndmin=2).tolist()\n",
        "                        for iddx in range(len(label_data)):\n",
        "                            label_data[iddx].insert(1, 1)\n",
        "                        for pred in all_pred_boxes:\n",
        "                            pred_class = int(pred[0])\n",
        "                            pred_cx, pred_cy, pred_w, pred_h = pred[2], pred[3], pred[4], pred[5]\n",
        "                            for gt in label_data:\n",
        "                                gt_class = int(gt[0])\n",
        "                                gt_cx, gt_cy, gt_w, gt_h = gt[2], gt[3], gt[4], gt[5]\n",
        "                                if pred_class == gt_class:\n",
        "                                    total_predictions += 1\n",
        "                                    if (abs(pred_cx - gt_cx) <= 0.5 * (pred_w + gt_w)) and (\n",
        "                                            abs(pred_cy - gt_cy) <= 0.5 * (pred_h + gt_h)):\n",
        "                                        correct_predictions += 1\n",
        "                                        break\n",
        "\n",
        "    accuracy = correct_predictions / total_predictions * 100 if total_predictions != 0 else 0\n",
        "    print(f'Epoch {epoch} - Accuracy: {accuracy:.2f}%')\n",
        "    print(f'Epoch {epoch} - Test Loss: {np.mean(test_losses)}')\n",
        "    return np.mean(test_losses), accuracy\n",
        "\n",
        "test_losses = []\n",
        "accuracies = []\n",
        "num_epochs = 5\n",
        "for epoch in range(1, num_epochs + 1):\n",
        "    test_loss, accuracy = test_yolo_v3(epoch)\n",
        "    test_losses.append(test_loss)\n",
        "    accuracies.append(accuracy)\n",
        "\n",
        "# Plotting test loss over epochs\n",
        "plt.plot(range(1, num_epochs + 1), test_losses, label='Test Loss')\n",
        "plt.xlabel('Epoch')\n",
        "plt.ylabel('Loss')\n",
        "plt.title('Test Loss Graph')\n",
        "plt.legend()\n",
        "plt.show()\n",
        "\n",
        "# Plotting accuracy over epochs\n",
        "plt.plot(range(1, num_epochs + 1), accuracies, label='Accuracy')\n",
        "plt.xlabel('Epoch')\n",
        "plt.ylabel('Accuracy (%)')\n",
        "plt.title('Test Accuracy Graph')\n",
        "plt.legend()\n",
        "plt.show()\n",
        "\n",
        "\n",
        "if MODE == \"train\":\n",
        "    train_yolo_v3()\n",
        "elif MODE == \"test\":\n",
        "    test_yolo_v3()\n",
        "else:\n",
        "    print(\"Set --mode to train or test. Example: python3 train.py --mode train\")"
      ]
    },
    {
      "cell_type": "markdown",
      "metadata": {
        "id": "-eYuC5kpAgRM"
      },
      "source": [
        "# **Testing the YOLOv3 model**"
      ]
    },
    {
      "cell_type": "code",
      "execution_count": null,
      "metadata": {
        "id": "cExQsfBTlmN_"
      },
      "outputs": [],
      "source": [
        "# Define constants and hyperparameters\n",
        "LR = 4e-3\n",
        "DIM = 416\n",
        "EPOCH = 5  # Set epoch\n",
        "MODE = \"test\"  # Set mode to test\n",
        "ROOT = \"/content/drive/MyDrive/zzc3/\"\n",
        "RELOAD = 0\n",
        "yolo_v3_model = YOLOv3()\n",
        "loss_fn =YoloLoss()\n",
        "\n",
        "optimizer = optim.Adam(yolo_v3_model.parameters(), lr=LR)\n",
        "scheduler = StepLR(optimizer, step_size=3, gamma=0.05)\n",
        "\n",
        "ANCHORS= [\n",
        "    [(0.28, 0.22), (0.38, 0.48), (0.9, 0.78)],\n",
        "    [(0.07, 0.15), (0.15, 0.11), (0.14, 0.29)],\n",
        "    [(0.02, 0.03), (0.04, 0.07), (0.08, 0.06)],\n",
        "    ]\n",
        "NMS_IOU_THRESH = 0.05\n",
        "CONF_THRESHOLD = 0.40\n",
        "S = [13, 26, 52]\n",
        "\n",
        "scaled_anchors = torch.tensor(ANCHORS)*(torch.tensor([13, 26, 52]).unsqueeze(1).unsqueeze(1).repeat(1, 3, 2))"
      ]
    },
    {
      "cell_type": "code",
      "execution_count": null,
      "metadata": {
        "colab": {
          "base_uri": "https://localhost:8080/",
          "height": 1000
        },
        "id": "-mabbpKUlLyU",
        "outputId": "3db776e9-73c9-4081-ebf3-ea0e33a3d541"
      },
      "outputs": [
        {
          "output_type": "stream",
          "name": "stdout",
          "text": [
            "Loading Weights: /content/drive/MyDrive/zzc3/weights/5.pth\n"
          ]
        },
        {
          "output_type": "stream",
          "name": "stderr",
          "text": [
            "100%|██████████| 75/75 [01:40<00:00,  1.35s/ Test batch]\n"
          ]
        },
        {
          "output_type": "stream",
          "name": "stdout",
          "text": [
            "Epoch 1 - Accuracy: 37.85%\n",
            "Epoch 1 - Test Loss: 5.9713071409861245\n",
            "Loading Weights: /content/drive/MyDrive/zzc3/weights/5.pth\n"
          ]
        },
        {
          "output_type": "stream",
          "name": "stderr",
          "text": [
            "100%|██████████| 75/75 [01:41<00:00,  1.36s/ Test batch]\n"
          ]
        },
        {
          "output_type": "stream",
          "name": "stdout",
          "text": [
            "Epoch 2 - Accuracy: 35.00%\n",
            "Epoch 2 - Test Loss: 5.93878914197286\n",
            "Loading Weights: /content/drive/MyDrive/zzc3/weights/5.pth\n"
          ]
        },
        {
          "output_type": "stream",
          "name": "stderr",
          "text": [
            "100%|██████████| 75/75 [01:42<00:00,  1.36s/ Test batch]\n"
          ]
        },
        {
          "output_type": "stream",
          "name": "stdout",
          "text": [
            "Epoch 3 - Accuracy: 35.75%\n",
            "Epoch 3 - Test Loss: 5.870156739552816\n",
            "Loading Weights: /content/drive/MyDrive/zzc3/weights/5.pth\n"
          ]
        },
        {
          "output_type": "stream",
          "name": "stderr",
          "text": [
            "100%|██████████| 75/75 [01:42<00:00,  1.36s/ Test batch]\n"
          ]
        },
        {
          "output_type": "stream",
          "name": "stdout",
          "text": [
            "Epoch 4 - Accuracy: 37.37%\n",
            "Epoch 4 - Test Loss: 5.91068465868632\n",
            "Loading Weights: /content/drive/MyDrive/zzc3/weights/5.pth\n"
          ]
        },
        {
          "output_type": "stream",
          "name": "stderr",
          "text": [
            "100%|██████████| 75/75 [01:43<00:00,  1.37s/ Test batch]\n"
          ]
        },
        {
          "output_type": "stream",
          "name": "stdout",
          "text": [
            "Epoch 5 - Accuracy: 36.95%\n",
            "Epoch 5 - Test Loss: 5.790042406717936\n"
          ]
        },
        {
          "output_type": "display_data",
          "data": {
            "text/plain": [
              "<Figure size 640x480 with 1 Axes>"
            ],
            "image/png": "[encoded data removed]"
          },
          "metadata": {}
        },
        {
          "output_type": "display_data",
          "data": {
            "text/plain": [
              "<Figure size 640x480 with 1 Axes>"
            ],
            "image/png": "[encoded data removed]"
          },
          "metadata": {}
        }
      ],
      "source": [
        "import matplotlib.pyplot as plt\n",
        "import numpy as np\n",
        "\n",
        "def test_yolo_v3(epoch):\n",
        "    weights_path = glob.glob(ROOT+\"weights/*.pth\")\n",
        "    if len(weights_path) == 0:\n",
        "        print(\"No weights file present in weights/\")\n",
        "        return\n",
        "\n",
        "    weights_path = weights_path[0]  # takes the file to load\n",
        "    print(\"Loading Weights:\", weights_path)\n",
        "\n",
        "    transform_test = A.Compose(\n",
        "        [A.Resize(height=DIM, width=DIM),\n",
        "         A.CLAHE(p=1.0),\n",
        "         A.Normalize(mean=[0, 0, 0], std=[1, 1, 1], max_pixel_value=255,),\n",
        "         ToTensorV2()],\n",
        "        bbox_params=A.BboxParams(format=\"yolo\", min_visibility=0.4, label_fields=[]),\n",
        "    )\n",
        "\n",
        "    yolo_v3_model.load_state_dict(torch.load(weights_path))\n",
        "    yolo_v3_model.eval()\n",
        "\n",
        "    test_data = BrainDataset(ANCHORS, transform=transform_test, mode=\"test\", root=ROOT)\n",
        "    test_dataloader = DataLoader(test_data, batch_size=1, shuffle=True, pin_memory=True)\n",
        "    test_losses = []\n",
        "    correct_predictions = 0\n",
        "    total_predictions = 0\n",
        "\n",
        "    with tqdm(test_dataloader, unit=\" Test batch\") as tepoch:\n",
        "        for input_images, labels, image_paths, label_paths in tepoch:\n",
        "            batch_size = input_images.shape[0]\n",
        "            y0, y1, y2 = (\n",
        "                labels[0],\n",
        "                labels[1],\n",
        "                labels[2],\n",
        "            )\n",
        "            with torch.no_grad():\n",
        "                out = yolo_v3_model(input_images)\n",
        "                loss = loss_fn(out[0], y0, scaled_anchors[0]) + loss_fn(out[1], y1, scaled_anchors[1]) + loss_fn(\n",
        "                    out[2], y2, scaled_anchors[2])\n",
        "                test_losses.append(loss.item())\n",
        "                bboxes = [[] for _ in range(batch_size)]\n",
        "\n",
        "                for i in range(3):\n",
        "                    S = out[i].shape[2]\n",
        "                    anchor = torch.tensor([*ANCHORS[i]]) * S\n",
        "                    boxes_scale_i = cells_to_bboxes(\n",
        "                        out[i], anchor, S=S, is_preds=True\n",
        "                    )\n",
        "                    for idx, (box) in enumerate(boxes_scale_i):\n",
        "                        bboxes[idx] += box\n",
        "\n",
        "                all_pred_boxes = []  # specified as [class_prediction, prob_score, cx, cy, w, h]\n",
        "\n",
        "                for idx in range(batch_size):\n",
        "                    nms_boxes = non_max_suppression(\n",
        "                        bboxes[idx],\n",
        "                        iou_threshold=NMS_IOU_THRESH,\n",
        "                        threshold=CONF_THRESHOLD,\n",
        "                        box_format=\"midpoint\",\n",
        "                    )\n",
        "\n",
        "                    for nms_box in nms_boxes:\n",
        "                        all_pred_boxes.append(nms_box)\n",
        "\n",
        "                    for image_idx in range(len(image_paths)):\n",
        "                        image_path = image_paths[image_idx]\n",
        "                        label_path = label_paths[image_idx]\n",
        "                        image = cv2.imread(image_path) # its a square dimensional image 256x256\n",
        "                        image = cv2.resize(image, (DIM, DIM))\n",
        "                        gt_image = image.copy()\n",
        "                        pred_image = image\n",
        "                        label_data = np.loadtxt(label_path, delimiter = \" \", ndmin=2).tolist()\n",
        "                        for iddx in range(len(label_data)):\n",
        "                            label_data[iddx].insert(1,1)\n",
        "                        # for gt in all_true_boxes:\n",
        "                        #     gt_image = plot(gt_image, gt, \"green\")\n",
        "                        for gt in label_data:\n",
        "                            gt_image = plot(gt_image, gt, \"green\")\n",
        "                        for pred in all_pred_boxes:\n",
        "                            pred_image = plot(image, pred, \"red\")\n",
        "                        save_image(gt_image, pred_image, image_path)\n",
        "\n",
        "                        image_path = image_paths[image_idx]\n",
        "                        label_path = label_paths[image_idx]\n",
        "                        label_data = np.loadtxt(label_path, delimiter=\" \", ndmin=2).tolist()\n",
        "                        for iddx in range(len(label_data)):\n",
        "                            label_data[iddx].insert(1, 1)\n",
        "                        for pred in all_pred_boxes:\n",
        "                            pred_class = int(pred[0])\n",
        "                            pred_cx, pred_cy, pred_w, pred_h = pred[2], pred[3], pred[4], pred[5]\n",
        "                            for gt in label_data:\n",
        "                                gt_class = int(gt[0])\n",
        "                                gt_cx, gt_cy, gt_w, gt_h = gt[2], gt[3], gt[4], gt[5]\n",
        "                                if pred_class == gt_class:\n",
        "                                    total_predictions += 1\n",
        "                                    if (abs(pred_cx - gt_cx) <= 0.5 * (pred_w + gt_w)) and (\n",
        "                                            abs(pred_cy - gt_cy) <= 0.5 * (pred_h + gt_h)):\n",
        "                                        correct_predictions += 1\n",
        "                                        break\n",
        "\n",
        "    accuracy = correct_predictions / total_predictions * 100 if total_predictions != 0 else 0\n",
        "    print(f'Epoch {epoch} - Accuracy: {accuracy:.2f}%')\n",
        "    print(f'Epoch {epoch} - Test Loss: {np.mean(test_losses)}')\n",
        "    return np.mean(test_losses), accuracy\n",
        "\n",
        "test_losses = []\n",
        "accuracies = []\n",
        "num_epochs = 5\n",
        "for epoch in range(1, num_epochs + 1):\n",
        "    test_loss, accuracy = test_yolo_v3(epoch)\n",
        "    test_losses.append(test_loss)\n",
        "    accuracies.append(accuracy)\n",
        "\n",
        "# Plotting test loss over epochs\n",
        "plt.plot(range(1, num_epochs + 1), test_losses, label='Test Loss')\n",
        "plt.xlabel('Epoch')\n",
        "plt.ylabel('Loss')\n",
        "plt.title('Test Loss Graph')\n",
        "plt.legend()\n",
        "plt.show()\n",
        "\n",
        "# Plotting accuracy over epochs\n",
        "plt.plot(range(1, num_epochs + 1), accuracies, label='Accuracy')\n",
        "plt.xlabel('Epoch')\n",
        "plt.ylabel('Accuracy (%)')\n",
        "plt.title('Test Accuracy Graph')\n",
        "plt.legend()\n",
        "plt.show()\n",
        "\n"
      ]
    }
  ],
  "metadata": {
    "colab": {
      "provenance": []
    },
    "kernelspec": {
      "display_name": "Python 3",
      "name": "python3"
    },
    "language_info": {
      "name": "python"
    }
  },
  "nbformat": 4,
  "nbformat_minor": 0
}